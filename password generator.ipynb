{
 "cells": [
  {
   "cell_type": "code",
   "execution_count": 218,
   "id": "ee3f7346-06b2-491d-aa4b-0faaa6d1ecc8",
   "metadata": {},
   "outputs": [],
   "source": [
    "import random"
   ]
  },
  {
   "cell_type": "code",
   "execution_count": 220,
   "id": "875655d8-0a49-4310-9621-a538262ba2d2",
   "metadata": {},
   "outputs": [],
   "source": [
    "letters = ['a', 'b', 'c', 'd', 'e', 'f', 'g', 'h', 'i', 'j', 'k', 'l', 'm', 'n', 'o', 'p', 'q', 'r', 's', 't', 'u', 'v', 'w', 'x', 'y', 'z', 'A', 'B', 'C', 'D', 'E', 'F', 'G', 'H', 'I', 'J', 'K', 'L', 'M', 'N', 'O', 'P', 'Q', 'R', 'S', 'T', 'U', 'V', 'W', 'X', 'Y', 'Z']"
   ]
  },
  {
   "cell_type": "code",
   "execution_count": 222,
   "id": "d8cb9ebe-d163-48e5-97d8-47ff2c260f32",
   "metadata": {},
   "outputs": [],
   "source": [
    "numbers = ['0', '1', '2', '3', '4', '5', '6', '7', '8', '9']"
   ]
  },
  {
   "cell_type": "code",
   "execution_count": 224,
   "id": "f3c38854-4ab5-4495-b8d6-e7468c2d62bf",
   "metadata": {},
   "outputs": [],
   "source": [
    "symbols = ['!', '#', '$', '%', '&', '(', ')', '*', '+']"
   ]
  },
  {
   "cell_type": "code",
   "execution_count": 226,
   "id": "2e882223-6538-4037-95e5-7dadc6efc93b",
   "metadata": {},
   "outputs": [
    {
     "name": "stdout",
     "output_type": "stream",
     "text": [
      "Welcome to the PyPassword Generator!\n"
     ]
    }
   ],
   "source": [
    "print(\"Welcome to the PyPassword Generator!\")"
   ]
  },
  {
   "cell_type": "code",
   "execution_count": 228,
   "id": "b0d791af-7a80-4cbc-8847-89a7f1dfc465",
   "metadata": {},
   "outputs": [
    {
     "name": "stdin",
     "output_type": "stream",
     "text": [
      "How many letters would you like in your password?\n",
      " 4\n"
     ]
    }
   ],
   "source": [
    "nr_letters= int(input(\"How many letters would you like in your password?\\n\")) "
   ]
  },
  {
   "cell_type": "code",
   "execution_count": 230,
   "id": "03690220-9bbc-48b1-9d04-cda5cd23ede5",
   "metadata": {},
   "outputs": [
    {
     "name": "stdin",
     "output_type": "stream",
     "text": [
      "How many symbols would you like?\n",
      " 2\n"
     ]
    }
   ],
   "source": [
    "nr_symbols = int(input(f\"How many symbols would you like?\\n\"))\n"
   ]
  },
  {
   "cell_type": "code",
   "execution_count": 232,
   "id": "71e6749d-0a0f-4cbc-a64a-5b53f8fae614",
   "metadata": {},
   "outputs": [
    {
     "name": "stdin",
     "output_type": "stream",
     "text": [
      "How many numbers would you like?\n",
      " 2\n"
     ]
    }
   ],
   "source": [
    "nr_numbers = int(input(f\"How many numbers would you like?\\n\"))\n"
   ]
  },
  {
   "cell_type": "code",
   "execution_count": 234,
   "id": "02970527-2004-4c87-8d47-567a698fc95f",
   "metadata": {},
   "outputs": [],
   "source": [
    "password_list = []"
   ]
  },
  {
   "cell_type": "code",
   "execution_count": 236,
   "id": "6ea82f67-e7d7-4648-a310-8fb6f399195d",
   "metadata": {},
   "outputs": [],
   "source": [
    "for char in range(0, nr_letters):\n",
    "    password_list.append(random.choice(letters))   "
   ]
  },
  {
   "cell_type": "code",
   "execution_count": 238,
   "id": "5657aaf3-5da9-458f-a3f9-3eed76534b0f",
   "metadata": {},
   "outputs": [],
   "source": [
    "for char in range(0, nr_numbers):\n",
    "    password_list.append(random.choice(numbers))"
   ]
  },
  {
   "cell_type": "code",
   "execution_count": 240,
   "id": "4a0b4a7b-8c52-4068-a087-d0d03cf49ec1",
   "metadata": {},
   "outputs": [],
   "source": [
    "for char in range(0, nr_symbols):\n",
    "    password_list.append(random.choice(symbols))"
   ]
  },
  {
   "cell_type": "code",
   "execution_count": 242,
   "id": "840b5c2b-1e74-4ece-a7fa-cbce90d00a1b",
   "metadata": {},
   "outputs": [
    {
     "name": "stdout",
     "output_type": "stream",
     "text": [
      "['H', 'K', 'b', 'g', '9', '0', '%', '*']\n"
     ]
    }
   ],
   "source": [
    "print(password_list)"
   ]
  },
  {
   "cell_type": "code",
   "execution_count": 216,
   "id": "7a05c270-f146-4b1d-b98f-52f3b07a56d9",
   "metadata": {},
   "outputs": [],
   "source": [
    "password = \"\""
   ]
  },
  {
   "cell_type": "code",
   "execution_count": 244,
   "id": "b804367f-e55d-495b-a531-ba8482259243",
   "metadata": {},
   "outputs": [],
   "source": [
    "for char in password_list:\n",
    "    password += char"
   ]
  },
  {
   "cell_type": "code",
   "execution_count": 246,
   "id": "124fb316-56d8-45d2-b081-9cd4a9727f47",
   "metadata": {},
   "outputs": [
    {
     "name": "stdout",
     "output_type": "stream",
     "text": [
      " Your Password is: HKbg90%*\n"
     ]
    }
   ],
   "source": [
    "print(f\" Your Password is: {password}\")"
   ]
  },
  {
   "cell_type": "code",
   "execution_count": null,
   "id": "caedcb0a-2919-4a3d-aee3-756a85710ad6",
   "metadata": {},
   "outputs": [],
   "source": []
  }
 ],
 "metadata": {
  "kernelspec": {
   "display_name": "Python 3 (ipykernel)",
   "language": "python",
   "name": "python3"
  },
  "language_info": {
   "codemirror_mode": {
    "name": "ipython",
    "version": 3
   },
   "file_extension": ".py",
   "mimetype": "text/x-python",
   "name": "python",
   "nbconvert_exporter": "python",
   "pygments_lexer": "ipython3",
   "version": "3.12.4"
  }
 },
 "nbformat": 4,
 "nbformat_minor": 5
}
